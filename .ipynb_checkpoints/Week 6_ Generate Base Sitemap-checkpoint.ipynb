{
 "cells": [
  {
   "cell_type": "markdown",
   "metadata": {},
   "source": [
    "Updates:\n",
    "\n",
    "- 20 Oct 8pm-10pm : started to code for sitemap generation\n",
    "- 21 Oct 1pm-3pm : generate sitemap\n"
   ]
  },
  {
   "cell_type": "code",
   "execution_count": null,
   "metadata": {},
   "outputs": [],
   "source": [
    "q_time='2019-07-10 07:00:00'"
   ]
  },
  {
   "cell_type": "code",
   "execution_count": null,
   "metadata": {},
   "outputs": [],
   "source": [
    "import numpy as np\n",
    "import pandas as pd\n",
    "import matplotlib.pyplot as plt\n",
    "import seaborn as sns\n",
    "import gc\n",
    "\n",
    "from scipy.stats import skew,kurtosis\n",
    "import datetime\n",
    "import re\n",
    "import fnmatch"
   ]
  },
  {
   "cell_type": "code",
   "execution_count": null,
   "metadata": {},
   "outputs": [],
   "source": [
    "%matplotlib inline\n",
    "# to view all columns\n",
    "pd.set_option('display.max_columns',500)\n",
    "plt.style.use('seaborn')"
   ]
  },
  {
   "cell_type": "code",
   "execution_count": null,
   "metadata": {},
   "outputs": [],
   "source": [
    "def summary_object(arg_df):\n",
    "    \n",
    "    object_list=[]\n",
    "    category_list=[]\n",
    "    bool_list=[]\n",
    "    unilabel_list=[]\n",
    "    missing_list=[]\n",
    "    \n",
    "    for c in arg_df.columns:\n",
    "        if arg_df[c].dtypes==object:\n",
    "            object_list.append(c)\n",
    "        elif str(arg_df[c].dtypes)=='category':\n",
    "            category_list.append(c)\n",
    "        elif arg_df[c].dtypes==bool:\n",
    "            bool_list.append(c)\n",
    "    if len(object_list)+len(category_list)+len(bool_list)>0:    \n",
    "        index_list=['Count','Unique','Missing (%)','Top','Top (%)','Bottom','Bottom (%)']\n",
    "        df_summary=pd.DataFrame(data=np.zeros((len(index_list),len(object_list))),index=index_list,columns=object_list)\n",
    "\n",
    "        for col in object_list+category_list+bool_list:\n",
    "            vc=arg_df[col].value_counts().reset_index()\n",
    "            df_summary.loc['Count',col]=(arg_df[col].count())\n",
    "            df_summary.loc['Unique',col]=len(arg_df[col].unique())\n",
    "            df_summary.loc['Missing (%)',col]=arg_df[col].isna().mean()*100\n",
    "            df_summary.loc['Top',col]=vc.iloc[0,0]\n",
    "            df_summary.loc['Top (%)',col]=vc.iloc[0,1]/len(arg_df)*100\n",
    "            if len(arg_df[col].unique())>2:\n",
    "                df_summary.loc['Bottom',col]=vc.iloc[-1,0]\n",
    "                df_summary.loc['Bottom (%)',col]=vc.iloc[-1,1]/len(arg_df)*100\n",
    "            elif (len(arg_df[col].unique())==2) & (df_summary.loc['Missing (%)',col]==0):\n",
    "                df_summary.loc['Bottom',col]=vc.iloc[-1,0]\n",
    "                df_summary.loc['Bottom (%)',col]=vc.iloc[-1,1]/len(arg_df)*100\n",
    "            else:\n",
    "                unilabel_list.append(col)\n",
    "            if df_summary.loc['Missing (%)',col]==100:\n",
    "                missing_list.append(col)\n",
    "                \n",
    "        df_summary=df_summary.T.sort_values(['Missing (%)','Unique'],ascending=False)\n",
    "        df_summary=df_summary[(df_summary['Unique']>1) & (df_summary['Missing (%)']!=100)]\n",
    "        df_summary.reset_index(inplace=True)\n",
    "        df_summary.index=df_summary.index+1\n",
    "        df_summary.columns=['Attribute']+index_list\n",
    "        \n",
    "        print('SUMMARY OF {} NON-NUMERICAL ATTRIBUTES:\\n'.format(\n",
    "            len(object_list)+len(category_list)+len(bool_list)))\n",
    "        if len(object_list)>0:\n",
    "            print('{} Object Columns'.format(len(object_list)))\n",
    "        if len(category_list)>0:\n",
    "            print('{} Categorical Columns'.format(len(category_list)))\n",
    "        if len(bool_list)>0:\n",
    "            print('{} Bool Columns'.format(len(bool_list)))\n",
    "        if len(unilabel_list)>0:\n",
    "            print('\\n{} Columns with Single Label : \\n{}'.format(len(unilabel_list),unilabel_list))\n",
    "        if len(missing_list)>0:\n",
    "            print('\\n{} Empty Columns: \\n{}'.format(len(missing_list),missing_list))   \n",
    "            \n",
    "        del arg_df,object_list,vc,index_list,unilabel_list,missing_list\n",
    "        gc.collect()\n",
    "        return df_summary\n",
    "    else:\n",
    "        print('No Non-Numerical Attributes')\n",
    "'============================================================='        \n",
    "def summary_numerical(arg_df):\n",
    "\n",
    "    target_list=[]\n",
    "    missing_list=[]\n",
    "    zero_skew_list=[]\n",
    "    \n",
    "    for c in arg_df.columns:\n",
    "        datatype=arg_df[c].dtypes\n",
    "        if datatype != object and datatype != bool and str(datatype) != 'category' and str(datatype) !='datetime64[ns]':\n",
    "            target_list.append(c)\n",
    "    if len(target_list)>0:\n",
    "        from scipy.stats import skew,kurtosis\n",
    "        \n",
    "        index_list=['Count','Missing (%)','Mean','Median','Min','Max','Skewness','Kurtosis']\n",
    "        df_summary=pd.DataFrame(data=np.zeros((len(index_list),len(target_list))),\n",
    "                                index=index_list,columns=target_list)\n",
    "        for col in target_list:\n",
    "            df_summary.loc['Count',col]=arg_df[col].count()\n",
    "            df_summary.loc['Missing (%)',col]=arg_df[col].isna().mean()*100\n",
    "            if df_summary.loc['Missing (%)',col]!=100:\n",
    "                df_summary.loc['Mean',col]=arg_df[col].mean()\n",
    "                df_summary.loc['Median',col]=arg_df[col].median()\n",
    "                df_summary.loc['Min',col]=arg_df[col].min()\n",
    "                df_summary.loc['Max',col]=arg_df[col].max()\n",
    "                df_summary.loc['Skewness',col]=skew(arg_df[col])\n",
    "                if df_summary.loc['Skewness',col]==0:\n",
    "                    zero_skew_list.append(col)\n",
    "                df_summary.loc['Kurtosis',col]=kurtosis(arg_df[col])\n",
    "            else:\n",
    "                missing_list.append(col)\n",
    "                \n",
    "        df_summary=df_summary.T.sort_values(['Missing (%)','Skewness'],ascending=False)\n",
    "        df_summary=df_summary[(df_summary['Skewness']!=0) & (df_summary['Missing (%)']!=100)]\n",
    "        df_summary.reset_index(inplace=True)\n",
    "        df_summary.index=df_summary.index+1\n",
    "        df_summary.columns=['Attribute']+index_list\n",
    "        \n",
    "        print('SUMMARY OF {} NUMERICAL ATTRIBUTES:'.format(len(target_list)))\n",
    "        if len(zero_skew_list)>0:\n",
    "            print('\\n{} Columns with Single Value: \\n{}'.format(len(zero_skew_list),zero_skew_list))\n",
    "        if len(missing_list)>0:\n",
    "            print('\\n{} Empty Columns: \\n{}'.format(len(missing_list),missing_list))\n",
    "        del arg_df,target_list,index_list\n",
    "        gc.collect()\n",
    "\n",
    "        return df_summary\n",
    "    else:\n",
    "        print('No Numerical Attributes')\n",
    "'==================================================================='        \n",
    "def drop_unilable_column(arg_df):\n",
    "    \n",
    "    target_list=[]\n",
    "    object_list=[]\n",
    "    number_list=[]\n",
    "    for c in arg_df.columns:\n",
    "        if (arg_df[c].dtypes==object) | (str(arg_df[c].dtypes)=='category') | (arg_df[c].dtypes==bool):\n",
    "            object_list.append(c)\n",
    "        elif str(arg_df[c].dtypes)!='datetime64[ns]':\n",
    "            number_list.append(c)\n",
    "    if len(object_list)>0:    \n",
    "        for c in object_list:\n",
    "            if len(arg_df[c].unique())==1:\n",
    "                target_list.append(c)\n",
    "            elif (len(arg_df[c].unique())==2) & (arg_df[c].isna().mean()>0):\n",
    "                target_list.append(c)\n",
    "    \n",
    "    if len(number_list)>0:   \n",
    "        from scipy.stats import skew\n",
    "        for c in number_list:\n",
    "            if skew(arg_df[c])==0:\n",
    "                target_list.append(c)\n",
    "                \n",
    "    if len(target_list)>0:\n",
    "        arg_df.drop(columns=target_list,axis='columns',inplace=True)\n",
    "        print('Drop {} Columns with Single Label:\\n{}'.format(len(target_list),target_list))\n",
    "    else: \n",
    "        print('No Columns with Single Label/Value')\n",
    "\n",
    "    del target_list,object_list\n",
    "'===================================================================' \n",
    "def drop_empty_column(arg_df):\n",
    "    target_list=[]\n",
    "    for c in arg_df.columns:\n",
    "        if arg_df[c].count()==0:\n",
    "            target_list.append(c)\n",
    "    if len(target_list)>0:\n",
    "        arg_df.drop(columns=target_list,axis=1,inplace=True)\n",
    "        print('Delete {} Empty Column : \\n{}'.format(len(target_list),target_list))\n",
    "    else:\n",
    "        print('No Empty Column')\n",
    "'==================================================================='        \n",
    "def drop_columns(arg_df,column_names):\n",
    "    arg_df.drop(columns=column_names,axis='columns',inplace=True)\n",
    "    print('Drop {} columns : \\n{}'.format(len(column_names),column_names))\n",
    "'============================================================='        \n",
    "def extract_room_row(arg_df,col_position):\n",
    "    '''To return unique Room-Row from standard Room-Row-Column-Height position data'''\n",
    "    roomrow=[]\n",
    "    roomrow=arg_df[col_position].apply(lambda x :x.split('-')[0]+'-'+x.split('-')[1] if '-' in x else x)\n",
    "    roomrow=roomrow.unique().tolist()\n",
    "    roomrow=pd.DataFrame(roomrow,columns=['Unique_Row']).sort_values(by='Unique_Row')\n",
    "    return roomrow['Unique_Row'].values\n",
    "'============================================================='  \n",
    "def generate_dif_columns(arg_df,left_column,left_sffx,right_sffx):\n",
    "    common_title=[]\n",
    "    for idx,c in enumerate(left_column):\n",
    "        common_title.append(left_column[idx].split(left_sffx)[0])\n",
    "    print('There are {} common columns : \\n{}'.format(len(left_column),common_title))\n",
    "\n",
    "    for idx,c in enumerate(common_title):\n",
    "        compare_col=common_title[idx].replace(' ','')\n",
    "        arg_df['dif_'+compare_col]=(arg_df[c+left_sffx]!=arg_df[c+right_sffx]) & (arg_df[c+right_sffx].notna())\n",
    "    print('\\nColumns Generated : {}'.format(len(common_title)))\n",
    "'==================================================================='        \n",
    "def find_time_dif_hour(arg_df,ref_date,proc_date):\n",
    "    new_date_attribute=[c.replace(' ','_') for c in proc_date]\n",
    "    for idx,c in enumerate(proc_date):\n",
    "        arg_df[new_date_attribute[idx]+'_hour']=arg_df[c]-arg_df[ref_date]\n",
    "        arg_df[new_date_attribute[idx]+'_hour']=arg_df[new_date_attribute[idx]+'_hour'].astype('timedelta64[h]')"
   ]
  },
  {
   "cell_type": "markdown",
   "metadata": {},
   "source": [
    "# 1) Import 2 dataset : trans and disp"
   ]
  },
  {
   "cell_type": "code",
   "execution_count": null,
   "metadata": {},
   "outputs": [],
   "source": [
    "path='C:/Users/Nan/Documents/GitHub_Data/'\n",
    "file_1=path+'p_transaction_2.csv'\n",
    "file_2=path+'p_dispatched_2.csv'\n",
    "\n",
    "filename_1=file_1\n",
    "filename_2=file_2\n",
    "\n",
    "sffx_transaction='_Trsc'\n",
    "sffx_dispatched='_Dptch'\n",
    "target_process='FW'"
   ]
  },
  {
   "cell_type": "code",
   "execution_count": null,
   "metadata": {},
   "outputs": [],
   "source": [
    "filename_1"
   ]
  },
  {
   "cell_type": "code",
   "execution_count": null,
   "metadata": {},
   "outputs": [],
   "source": [
    "trans=pd.read_csv(filename_1)\n",
    "disp=pd.read_csv(filename_2)"
   ]
  },
  {
   "cell_type": "code",
   "execution_count": null,
   "metadata": {},
   "outputs": [],
   "source": [
    "trans.shape"
   ]
  },
  {
   "cell_type": "code",
   "execution_count": null,
   "metadata": {},
   "outputs": [],
   "source": [
    "trans.head(2)"
   ]
  },
  {
   "cell_type": "code",
   "execution_count": null,
   "metadata": {},
   "outputs": [],
   "source": [
    "disp.shape"
   ]
  },
  {
   "cell_type": "code",
   "execution_count": null,
   "metadata": {},
   "outputs": [],
   "source": [
    "disp.head(2)"
   ]
  },
  {
   "cell_type": "markdown",
   "metadata": {},
   "source": [
    "### Data Processing so that common columns have same set of data label\n",
    "    -change to string:Fruit Size Code_Trsc\n",
    "    -truncate 0 at first position:Purchase Pool Code_Trsc\n",
    "    -incorrect calculation as referring to dif,should remain in datetime: date columns(incl Ok_Until_Date_day,Pack_Date_day)"
   ]
  },
  {
   "cell_type": "code",
   "execution_count": null,
   "metadata": {},
   "outputs": [],
   "source": [
    "trans['Fruit Size Code']=trans['Fruit Size Code'].astype('str')\n",
    "disp['Fruit Size Code']=disp['Fruit Size Code'].astype('str')"
   ]
  },
  {
   "cell_type": "code",
   "execution_count": null,
   "metadata": {},
   "outputs": [],
   "source": [
    "trans['Purchase Pool Code']=trans['Purchase Pool Code'].apply(lambda x:x.split('0')[1] if x[0]=='0' else x)\n",
    "disp['Purchase Pool Code']=disp['Purchase Pool Code'].apply(lambda x:x.split('0')[1] if x[0]=='0' else x)"
   ]
  },
  {
   "cell_type": "code",
   "execution_count": null,
   "metadata": {},
   "outputs": [],
   "source": [
    "#drop_columns(disp,['Pack_Date_day', 'Ok_Until_Date_day'])\n",
    "drop_columns(disp,['Pack_Date_day'])"
   ]
  },
  {
   "cell_type": "code",
   "execution_count": null,
   "metadata": {},
   "outputs": [],
   "source": [
    "# to prevent OK Until Date with same date but dif time\n",
    "trans['Ok Until Date']=pd.to_datetime(trans['Ok Until Date'],format='%Y-%m-%d %H:%M:%S')\n",
    "disp['Ok Until Date']=pd.to_datetime(disp['Ok Until Date'],format='%Y-%m-%d %H:%M:%S')"
   ]
  },
  {
   "cell_type": "code",
   "execution_count": null,
   "metadata": {},
   "outputs": [],
   "source": [
    "trans['Ok Until Date']=trans['Ok Until Date'].dt.date\n",
    "disp['Ok Until Date']=disp['Ok Until Date'].dt.date"
   ]
  },
  {
   "cell_type": "code",
   "execution_count": null,
   "metadata": {},
   "outputs": [],
   "source": [
    "## 12 Oct : comment out this bcs found out Packed Trays is 0 in disp\n",
    "# disp.rename(index=str,columns={'Packed Trays':'Trays'},inplace=True)"
   ]
  },
  {
   "cell_type": "code",
   "execution_count": null,
   "metadata": {},
   "outputs": [],
   "source": [
    "trans['Transaction Date Time']=pd.to_datetime(trans['Transaction Date Time'],format='%Y-%m-%d %H:%M:%S')"
   ]
  },
  {
   "cell_type": "markdown",
   "metadata": {},
   "source": [
    "## 2) Preprocess transactional data"
   ]
  },
  {
   "cell_type": "code",
   "execution_count": null,
   "metadata": {
    "scrolled": true
   },
   "outputs": [],
   "source": [
    "trans.head(10)"
   ]
  },
  {
   "cell_type": "markdown",
   "metadata": {},
   "source": [
    "### Add Query Time\n",
    "df=trans.copy()\n",
    "df['query_Time']=q_time\n",
    "list_time=[c for c in list(df.columns) if 'Time' in c]\n",
    "list_time\n",
    "for c in list_time:\n",
    "    df[c]=pd.to_datetime(df[c],format='%Y-%m-%d %H:%M:%S')\n",
    "trans_prev=df.loc[df['Transaction Date Time']<df['query_Time']]\n",
    "trans_prev.shape\n",
    "trans_prev.head()"
   ]
  },
  {
   "cell_type": "code",
   "execution_count": null,
   "metadata": {},
   "outputs": [],
   "source": [
    "temp_df=trans.groupby('Previous Value')['Transaction Date Time','Pallet Number'].first()"
   ]
  },
  {
   "cell_type": "code",
   "execution_count": null,
   "metadata": {
    "scrolled": true
   },
   "outputs": [],
   "source": [
    "temp_df_2=trans.groupby('New Value')['Transaction Date Time','Pallet Number'].first()"
   ]
  },
  {
   "cell_type": "code",
   "execution_count": null,
   "metadata": {},
   "outputs": [],
   "source": [
    "temp_df.reset_index(inplace=True)\n",
    "temp_df_2.reset_index(inplace=True)"
   ]
  },
  {
   "cell_type": "code",
   "execution_count": null,
   "metadata": {
    "scrolled": true
   },
   "outputs": [],
   "source": [
    "df_merge=temp_df.merge(temp_df_2,how='outer',left_on='Previous Value',right_on='New Value',suffixes=('_From', '_To'))\n",
    "df_merge.sample(5)"
   ]
  },
  {
   "cell_type": "code",
   "execution_count": null,
   "metadata": {},
   "outputs": [],
   "source": [
    "# Exclude row with Transaction Date Time_To happened before Transaction Date Time_From\n",
    "df=df_merge.loc[(df_merge['Transaction Date Time_From']<df_merge['Transaction Date Time_To']) |\n",
    "             df_merge['Transaction Date Time_To'].isna(),:]"
   ]
  },
  {
   "cell_type": "code",
   "execution_count": null,
   "metadata": {},
   "outputs": [],
   "source": [
    "df.shape"
   ]
  },
  {
   "cell_type": "markdown",
   "metadata": {},
   "source": [
    "### Check Duplicates"
   ]
  },
  {
   "cell_type": "code",
   "execution_count": null,
   "metadata": {
    "scrolled": true
   },
   "outputs": [],
   "source": [
    "df[df['Pallet Number_From'].duplicated()]"
   ]
  },
  {
   "cell_type": "code",
   "execution_count": null,
   "metadata": {},
   "outputs": [],
   "source": [
    "df_pallet_first_trsn=trans[['Pallet Number','Transaction Date Time']].groupby('Pallet Number')['Transaction Date Time'].min()"
   ]
  },
  {
   "cell_type": "code",
   "execution_count": null,
   "metadata": {},
   "outputs": [],
   "source": [
    "df_pallet_first_trsn=df_pallet_first_trsn.to_frame().reset_index()"
   ]
  },
  {
   "cell_type": "code",
   "execution_count": null,
   "metadata": {},
   "outputs": [],
   "source": [
    "df_pallet_first_trsn.head()"
   ]
  },
  {
   "cell_type": "code",
   "execution_count": null,
   "metadata": {},
   "outputs": [],
   "source": [
    "temp=df.shape\n",
    "df=df.merge(df_pallet_first_trsn,how='inner',\n",
    "         left_on=['Transaction Date Time_From','Pallet Number_From'],\n",
    "        right_on=['Transaction Date Time','Pallet Number'])\n",
    "print('Total Row Rectified : {}'.format(temp[0]-df.shape[0]))"
   ]
  },
  {
   "cell_type": "code",
   "execution_count": null,
   "metadata": {},
   "outputs": [],
   "source": [
    "df.sample(10)"
   ]
  },
  {
   "cell_type": "code",
   "execution_count": null,
   "metadata": {},
   "outputs": [],
   "source": [
    "df=df[['Previous Value','Pallet Number_From','Transaction Date Time_From']]\n",
    "df.rename(index=str,columns={'Previous Value':'Location'},inplace=True)"
   ]
  },
  {
   "cell_type": "code",
   "execution_count": null,
   "metadata": {},
   "outputs": [],
   "source": [
    "df['isOccupied']=1"
   ]
  },
  {
   "cell_type": "markdown",
   "metadata": {},
   "source": [
    "### Counter check with Complete set of position"
   ]
  },
  {
   "cell_type": "code",
   "execution_count": null,
   "metadata": {},
   "outputs": [],
   "source": [
    "temp_list=trans['Previous Value'].unique()\n",
    "temp_list_2=trans['New Value'].unique()"
   ]
  },
  {
   "cell_type": "code",
   "execution_count": null,
   "metadata": {},
   "outputs": [],
   "source": [
    "len(temp_list)"
   ]
  },
  {
   "cell_type": "code",
   "execution_count": null,
   "metadata": {},
   "outputs": [],
   "source": [
    "temp_list=np.append(temp_list,temp_list_2)"
   ]
  },
  {
   "cell_type": "code",
   "execution_count": null,
   "metadata": {},
   "outputs": [],
   "source": [
    "unique_position=set(temp_list)"
   ]
  },
  {
   "cell_type": "code",
   "execution_count": null,
   "metadata": {},
   "outputs": [],
   "source": [
    "print('Total Unique Position : {}'.format(len(unique_position)))"
   ]
  },
  {
   "cell_type": "code",
   "execution_count": null,
   "metadata": {},
   "outputs": [],
   "source": [
    "unique_position=list(unique_position)"
   ]
  },
  {
   "cell_type": "code",
   "execution_count": null,
   "metadata": {},
   "outputs": [],
   "source": [
    "unique_position_hyphen=list(c for c in unique_position if '-' in c)"
   ]
  },
  {
   "cell_type": "code",
   "execution_count": null,
   "metadata": {},
   "outputs": [],
   "source": [
    "df_Location=pd.DataFrame(columns=['Location'],data=unique_position_hyphen)"
   ]
  },
  {
   "cell_type": "code",
   "execution_count": null,
   "metadata": {},
   "outputs": [],
   "source": [
    "df=df.merge(df_Location,how='outer',on='Location')"
   ]
  },
  {
   "cell_type": "code",
   "execution_count": null,
   "metadata": {},
   "outputs": [],
   "source": [
    "df['isOccupied'].fillna(0,inplace=True)\n",
    "df['Pallet Number_From'].fillna(0,inplace=True)"
   ]
  },
  {
   "cell_type": "markdown",
   "metadata": {},
   "source": [
    "### Filter Out Location with Hyphen"
   ]
  },
  {
   "cell_type": "code",
   "execution_count": null,
   "metadata": {
    "scrolled": true
   },
   "outputs": [],
   "source": [
    "df=df.loc[df['Location'].str.contains('-'),:]\n",
    "df.shape"
   ]
  },
  {
   "cell_type": "markdown",
   "metadata": {},
   "source": [
    "### Derive Room Code"
   ]
  },
  {
   "cell_type": "code",
   "execution_count": null,
   "metadata": {},
   "outputs": [],
   "source": [
    "df['Location_List']=df['Location'].str.split('-')"
   ]
  },
  {
   "cell_type": "code",
   "execution_count": null,
   "metadata": {},
   "outputs": [],
   "source": [
    "df['Room']=df['Location_List'].apply(lambda x:x[0])\n",
    "df['Row']=df['Location_List'].apply(lambda x:x[1])\n",
    "df['Column']=df['Location_List'].apply(lambda x:x[2])\n",
    "df['Height']=df['Location_List'].apply(lambda x:x[3])"
   ]
  },
  {
   "cell_type": "code",
   "execution_count": null,
   "metadata": {},
   "outputs": [],
   "source": [
    "drop_columns(df,['Location_List'])"
   ]
  },
  {
   "cell_type": "code",
   "execution_count": null,
   "metadata": {},
   "outputs": [],
   "source": [
    "df.sample(5)"
   ]
  },
  {
   "cell_type": "code",
   "execution_count": null,
   "metadata": {
    "scrolled": true
   },
   "outputs": [],
   "source": [
    "df['Room'].value_counts(dropna=False).sort_index()"
   ]
  },
  {
   "cell_type": "code",
   "execution_count": null,
   "metadata": {},
   "outputs": [],
   "source": [
    "df=df.sort_values(by=['Room','Row','Column','Height']).reset_index(drop=True)"
   ]
  },
  {
   "cell_type": "code",
   "execution_count": null,
   "metadata": {},
   "outputs": [],
   "source": [
    "df.rename(index=str,columns={'Pallet Number_From':'Pallet Number',\n",
    "                            'Transaction Date Time_From':'Transaction Date Time'},inplace=True)"
   ]
  },
  {
   "cell_type": "code",
   "execution_count": null,
   "metadata": {},
   "outputs": [],
   "source": [
    "df.head()"
   ]
  },
  {
   "cell_type": "markdown",
   "metadata": {},
   "source": [
    "### Summary"
   ]
  },
  {
   "cell_type": "code",
   "execution_count": null,
   "metadata": {
    "scrolled": true
   },
   "outputs": [],
   "source": [
    "d_empty=len(df[df['isOccupied']==0])\n",
    "d_occupied=len(df[df['isOccupied']==1])\n",
    "#d_empty=len(df[df['isEmpty']==0])\n",
    "#d_occupied=len(df[df['isEmpty']==1])"
   ]
  },
  {
   "cell_type": "code",
   "execution_count": null,
   "metadata": {},
   "outputs": [],
   "source": [
    "print('Total Pallet Position : {}'.format(len(df['Location'])))\n",
    "print('Occupied Position: {:} '.format(d_occupied))\n",
    "print('Occupancy Rate : {:.3f} %'.format(d_occupied/(d_empty+d_occupied)*100))"
   ]
  },
  {
   "cell_type": "code",
   "execution_count": null,
   "metadata": {
    "scrolled": true
   },
   "outputs": [],
   "source": [
    "df.groupby('Room')['isOccupied'].sum()"
   ]
  },
  {
   "cell_type": "code",
   "execution_count": null,
   "metadata": {},
   "outputs": [],
   "source": [
    "df['isOccupied'].value_counts()"
   ]
  },
  {
   "cell_type": "markdown",
   "metadata": {},
   "source": [
    "### Export"
   ]
  },
  {
   "cell_type": "code",
   "execution_count": null,
   "metadata": {},
   "outputs": [],
   "source": [
    "df.to_csv('Sitemap_July2019.csv',index=False)"
   ]
  },
  {
   "cell_type": "code",
   "execution_count": null,
   "metadata": {},
   "outputs": [],
   "source": []
  }
 ],
 "metadata": {
  "kernelspec": {
   "display_name": "Python 3",
   "language": "python",
   "name": "python3"
  },
  "language_info": {
   "codemirror_mode": {
    "name": "ipython",
    "version": 3
   },
   "file_extension": ".py",
   "mimetype": "text/x-python",
   "name": "python",
   "nbconvert_exporter": "python",
   "pygments_lexer": "ipython3",
   "version": "3.6.7"
  }
 },
 "nbformat": 4,
 "nbformat_minor": 2
}
